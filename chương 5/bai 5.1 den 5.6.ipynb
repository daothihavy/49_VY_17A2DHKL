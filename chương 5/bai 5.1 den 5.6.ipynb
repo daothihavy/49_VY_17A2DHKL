{
 "cells": [
  {
   "cell_type": "markdown",
   "metadata": {},
   "source": [
    "### BÀI 5.1"
   ]
  },
  {
   "cell_type": "code",
   "execution_count": 1,
   "metadata": {},
   "outputs": [
    {
     "name": "stdout",
     "output_type": "stream",
     "text": [
      "SQLite version: 3.45.3\n"
     ]
    }
   ],
   "source": [
    "import sqlite3\n",
    "\n",
    "connection = sqlite3.connect(\"example.db\")\n",
    "\n",
    "try:\n",
    "    cursor = connection.cursor()\n",
    "    cursor.execute(\"SELECT sqlite_version();\")\n",
    "    version = cursor.fetchone()\n",
    "\n",
    "    print(f\"SQLite version: {version[0]}\")\n",
    "\n",
    "finally:\n",
    "    \n",
    "    connection.close()"
   ]
  },
  {
   "cell_type": "markdown",
   "metadata": {},
   "source": [
    "### BÀI 5.2"
   ]
  },
  {
   "cell_type": "code",
   "execution_count": 2,
   "metadata": {},
   "outputs": [
    {
     "name": "stdout",
     "output_type": "stream",
     "text": [
      "SQLite version: 3.45.3\n"
     ]
    }
   ],
   "source": [
    "import sqlite3\n",
    "connection = sqlite3.connect(\":memory:\")\n",
    "\n",
    "try:\n",
    "\n",
    "    cursor = connection.cursor()\n",
    "    cursor.execute(\"SELECT sqlite_version();\")\n",
    "    version = cursor.fetchone()\n",
    "\n",
    "    print(f\"SQLite version: {version[0]}\")\n",
    "\n",
    "finally:\n",
    "    connection.close()"
   ]
  },
  {
   "cell_type": "markdown",
   "metadata": {},
   "source": [
    "### BÀI 5.3"
   ]
  },
  {
   "cell_type": "code",
   "execution_count": 3,
   "metadata": {},
   "outputs": [
    {
     "name": "stdout",
     "output_type": "stream",
     "text": [
      "Table 'users' created successfully.\n"
     ]
    }
   ],
   "source": [
    "import sqlite3\n",
    "connection = sqlite3.connect(\"example.db\")\n",
    "\n",
    "try:\n",
    "    cursor = connection.cursor()\n",
    "\n",
    "    cursor.execute(\"\"\"\n",
    "        CREATE TABLE IF NOT EXISTS users (\n",
    "            id INTEGER PRIMARY KEY AUTOINCREMENT,\n",
    "            name TEXT NOT NULL,\n",
    "            age INTEGER NOT NULL\n",
    "        );\n",
    "    \"\"\")\n",
    "\n",
    "    print(\"Table 'users' created successfully.\")\n",
    "\n",
    "finally:\n",
    "    connection.close()\n"
   ]
  },
  {
   "cell_type": "markdown",
   "metadata": {},
   "source": [
    "### BÀI 5.4"
   ]
  },
  {
   "cell_type": "code",
   "execution_count": 4,
   "metadata": {},
   "outputs": [
    {
     "name": "stdout",
     "output_type": "stream",
     "text": [
      "Table 'users' created successfully.\n",
      "Tables in the database:\n",
      "- users\n",
      "- sqlite_sequence\n"
     ]
    }
   ],
   "source": [
    "import sqlite3\n",
    "\n",
    "connection = sqlite3.connect(\"example.db\")\n",
    "\n",
    "try:\n",
    "\n",
    "    cursor = connection.cursor()\n",
    "\n",
    "    cursor.execute(\"\"\"\n",
    "        CREATE TABLE IF NOT EXISTS users (\n",
    "            id INTEGER PRIMARY KEY AUTOINCREMENT,\n",
    "            name TEXT NOT NULL,\n",
    "            age INTEGER NOT NULL\n",
    "        );\n",
    "    \"\"\")\n",
    "\n",
    "    print(\"Table 'users' created successfully.\")\n",
    "\n",
    "    cursor.execute(\"SELECT name FROM sqlite_master WHERE type='table';\")\n",
    "    tables = cursor.fetchall()\n",
    "\n",
    "    print(\"Tables in the database:\")\n",
    "    for table in tables:\n",
    "        print(f\"- {table[0]}\")\n",
    "\n",
    "finally:\n",
    "    connection.close()\n"
   ]
  },
  {
   "cell_type": "markdown",
   "metadata": {},
   "source": [
    "### BÀI 5.5"
   ]
  },
  {
   "cell_type": "code",
   "execution_count": 5,
   "metadata": {},
   "outputs": [
    {
     "name": "stdout",
     "output_type": "stream",
     "text": [
      "Table 'users' created successfully.\n",
      "Records inserted successfully.\n",
      "Records in 'users' table:\n",
      "(1, 'Alice', 40)\n",
      "(3, 'Charlie', 40)\n",
      "(4, 'Alice', 40)\n",
      "(5, 'Bob', 40)\n",
      "(6, 'Charlie', 40)\n",
      "(7, 'Alice', 40)\n",
      "(8, 'Bob', 40)\n",
      "(9, 'Charlie', 40)\n",
      "(10, 'Alice', 30)\n",
      "(11, 'Bob', 25)\n",
      "(12, 'Charlie', 35)\n"
     ]
    }
   ],
   "source": [
    "import sqlite3\n",
    "connection = sqlite3.connect(\"example.db\")\n",
    "\n",
    "try:\n",
    "    cursor = connection.cursor()\n",
    "\n",
    "    cursor.execute(\"\"\"\n",
    "        CREATE TABLE IF NOT EXISTS users (\n",
    "            id INTEGER PRIMARY KEY AUTOINCREMENT,\n",
    "            name TEXT NOT NULL,\n",
    "            age INTEGER NOT NULL\n",
    "        );\n",
    "    \"\"\")\n",
    "\n",
    "    print(\"Table 'users' created successfully.\")\n",
    "\n",
    "    users_data = [\n",
    "        (\"Alice\", 30),\n",
    "        (\"Bob\", 25),\n",
    "        (\"Charlie\", 35)\n",
    "    ]\n",
    "    cursor.executemany(\"INSERT INTO users (name, age) VALUES (?, ?);\", users_data)\n",
    "    connection.commit()\n",
    "    print(\"Records inserted successfully.\")\n",
    "\n",
    "    cursor.execute(\"SELECT * FROM users;\")\n",
    "    rows = cursor.fetchall()\n",
    "\n",
    "    print(\"Records in 'users' table:\")\n",
    "    for row in rows:\n",
    "        print(row)\n",
    "\n",
    "finally:\n",
    "    connection.close()"
   ]
  },
  {
   "cell_type": "markdown",
   "metadata": {},
   "source": [
    "### BÀI 5.6"
   ]
  },
  {
   "cell_type": "code",
   "execution_count": 6,
   "metadata": {},
   "outputs": [
    {
     "name": "stdout",
     "output_type": "stream",
     "text": [
      "Table 'users' created successfully.\n",
      "Records inserted successfully.\n",
      "Total records in 'users' table: 14\n"
     ]
    }
   ],
   "source": [
    "import sqlite3\n",
    "\n",
    "connection = sqlite3.connect(\"example.db\")\n",
    "\n",
    "try:\n",
    "    cursor = connection.cursor()\n",
    "\n",
    "    cursor.execute(\"\"\"\n",
    "        CREATE TABLE IF NOT EXISTS users (\n",
    "            id INTEGER PRIMARY KEY AUTOINCREMENT,\n",
    "            name TEXT NOT NULL,\n",
    "            age INTEGER NOT NULL\n",
    "        );\n",
    "    \"\"\")\n",
    "\n",
    "    print(\"Table 'users' created successfully.\")\n",
    "\n",
    "    users_data = [\n",
    "        (\"Alice\", 30),\n",
    "        (\"Bob\", 25),\n",
    "        (\"Charlie\", 35)\n",
    "    ]\n",
    "    cursor.executemany(\"INSERT INTO users (name, age) VALUES (?, ?);\", users_data)\n",
    "    connection.commit()\n",
    "    print(\"Records inserted successfully.\")\n",
    "\n",
    "    cursor.execute(\"SELECT COUNT(*) FROM users;\")\n",
    "    record_count = cursor.fetchone()[0]\n",
    "    print(f\"Total records in 'users' table: {record_count}\")\n",
    "\n",
    "finally:\n",
    "    connection.close()"
   ]
  }
 ],
 "metadata": {
  "kernelspec": {
   "display_name": "base",
   "language": "python",
   "name": "python3"
  },
  "language_info": {
   "codemirror_mode": {
    "name": "ipython",
    "version": 3
   },
   "file_extension": ".py",
   "mimetype": "text/x-python",
   "name": "python",
   "nbconvert_exporter": "python",
   "pygments_lexer": "ipython3",
   "version": "3.12.4"
  }
 },
 "nbformat": 4,
 "nbformat_minor": 2
}
