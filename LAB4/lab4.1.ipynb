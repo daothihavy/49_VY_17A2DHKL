{
 "cells": [
  {
   "cell_type": "code",
   "execution_count": 3,
   "metadata": {},
   "outputs": [
    {
     "name": "stdout",
     "output_type": "stream",
     "text": [
      "Bảng 'product' đã được tạo thành công (nếu chưa tồn tại).\n"
     ]
    }
   ],
   "source": [
    "import sqlite3\n",
    "\n",
    "def connect_db():\n",
    "    \"\"\"Kết nối đến cơ sở dữ liệu hoặc tạo mới nếu chưa tồn tại.\"\"\"\n",
    "    conn = sqlite3.connect(\"product.db\")  # Tên cơ sở dữ liệu\n",
    "    return conn\n",
    "\n",
    "def create_table():\n",
    "    \"\"\"Tạo bảng product trong cơ sở dữ liệu.\"\"\"\n",
    "    conn = connect_db()\n",
    "    cursor = conn.cursor()\n",
    "    cursor.execute('''\n",
    "        CREATE TABLE IF NOT EXISTS product (\n",
    "            Id INTEGER PRIMARY KEY,\n",
    "            Name TEXT NOT NULL,\n",
    "            Price REAL NOT NULL,\n",
    "            Amount INTEGER NOT NULL\n",
    "        )\n",
    "    ''')\n",
    "    conn.commit()\n",
    "    conn.close()\n",
    "    print(\"Bảng 'product' đã được tạo thành công (nếu chưa tồn tại).\")\n",
    "\n",
    "# Gọi hàm để tạo cơ sở dữ liệu và bảng\n",
    "create_table()"
   ]
  },
  {
   "cell_type": "code",
   "execution_count": null,
   "metadata": {},
   "outputs": [],
   "source": []
  }
 ],
 "metadata": {
  "kernelspec": {
   "display_name": "base",
   "language": "python",
   "name": "python3"
  },
  "language_info": {
   "codemirror_mode": {
    "name": "ipython",
    "version": 3
   },
   "file_extension": ".py",
   "mimetype": "text/x-python",
   "name": "python",
   "nbconvert_exporter": "python",
   "pygments_lexer": "ipython3",
   "version": "3.12.4"
  }
 },
 "nbformat": 4,
 "nbformat_minor": 2
}
