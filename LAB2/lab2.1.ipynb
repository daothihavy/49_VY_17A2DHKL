{
 "cells": [
  {
   "cell_type": "code",
   "execution_count": 2,
   "metadata": {},
   "outputs": [
    {
     "name": "stdout",
     "output_type": "stream",
     "text": [
      "Nhiệt độ hàng ngày trong tháng (°C):\n",
      "[32.99 18.95 22.05 20.   32.87 23.13 23.92 17.79 18.54 28.78 21.78 17.31\n",
      " 20.56 15.74 27.53 16.57 20.8  17.38 29.18 27.6  21.45 17.46 31.58 34.41\n",
      " 24.26 24.81 31.27 24.56 17.53 19.6 ]\n",
      "\n",
      "Nhiệt độ trung bình trong tháng là:\n",
      "23.35 °C\n"
     ]
    }
   ],
   "source": [
    "import numpy as np\n",
    "\n",
    "# Tạo dữ liệu mô phỏng nhiệt độ hàng ngày trong một tháng (30 ngày)\n",
    "# Giá trị nhiệt độ ngẫu nhiên trong khoảng 15 - 35 độ C\n",
    "temperatures = np.round(np.random.uniform(15, 35, 30), 2)\n",
    "\n",
    "# Tính nhiệt độ trung bình trong tháng\n",
    "average_temperature = np.mean(temperatures)\n",
    "\n",
    "# In kết quả\n",
    "print(\"Nhiệt độ hàng ngày trong tháng (°C):\")\n",
    "print(temperatures)\n",
    "\n",
    "print(\"\\nNhiệt độ trung bình trong tháng là:\")\n",
    "print(f\"{average_temperature:.2f} °C\")\n"
   ]
  },
  {
   "cell_type": "code",
   "execution_count": 5,
   "metadata": {},
   "outputs": [
    {
     "name": "stdout",
     "output_type": "stream",
     "text": [
      "\n",
      "Nhiệt độ cao nhất: 34.41°C, vào ngày: 24\n",
      "Nhiệt độ thấp nhất: 15.74°C, vào ngày: 14\n",
      "Sự chênh lệch nhiệt độ lớn nhất: 14.12°C, giữa ngày 22 và ngày 23\n"
     ]
    }
   ],
   "source": [
    "# Xác định ngày có nhiệt độ cao nhất và thấp nhất\n",
    "max_temp = np.max(temperatures)\n",
    "min_temp = np.min(temperatures)\n",
    "day_max_temp = np.argmax(temperatures) + 1  # Thêm 1 vì ngày bắt đầu từ 1\n",
    "day_min_temp = np.argmin(temperatures) + 1\n",
    "\n",
    "# Tính sự chênh lệch nhiệt độ giữa các ngày (giá trị tuyệt đối)\n",
    "temp_diff = np.abs(np.diff(temperatures))\n",
    "\n",
    "# Ngày có sự biến đổi nhiệt độ cao nhất\n",
    "max_diff = np.max(temp_diff)\n",
    "day_max_diff = np.argmax(temp_diff) + 1  # Ngày đầu tiên trong cặp chênh lệch\n",
    "\n",
    "# In kết quả\n",
    "print(f\"\\nNhiệt độ cao nhất: {max_temp}°C, vào ngày: {day_max_temp}\")\n",
    "print(f\"Nhiệt độ thấp nhất: {min_temp}°C, vào ngày: {day_min_temp}\")\n",
    "print(f\"Sự chênh lệch nhiệt độ lớn nhất: {max_diff:.2f}°C, giữa ngày {day_max_diff} và ngày {day_max_diff + 1}\")\n"
   ]
  },
  {
   "cell_type": "code",
   "execution_count": 6,
   "metadata": {},
   "outputs": [
    {
     "name": "stdout",
     "output_type": "stream",
     "text": [
      "\n",
      "Các ngày có nhiệt độ cao hơn 20 độ C:\n",
      "[32.99 22.05 32.87 23.13 23.92 28.78 21.78 20.56 27.53 20.8  29.18 27.6\n",
      " 21.45 31.58 34.41 24.26 24.81 31.27 24.56]\n",
      "\n",
      "Nhiệt độ của các ngày 5, 10, 15, 20, và 25:\n",
      "[32.87 28.78 27.53 27.6  24.26]\n",
      "\n",
      "Nhiệt độ của các ngày có nhiệt độ trên trung bình:\n",
      "[32.99 32.87 23.92 28.78 27.53 29.18 27.6  31.58 34.41 24.26 24.81 31.27\n",
      " 24.56]\n",
      "\n",
      "Nhiệt độ của các ngày chẵn trong tháng:\n",
      "[18.95 20.   23.13 17.79 28.78 17.31 15.74 16.57 17.38 27.6  17.46 34.41\n",
      " 24.81 24.56 19.6 ]\n",
      "\n",
      "Nhiệt độ của các ngày lẻ trong tháng:\n",
      "[32.99 22.05 32.87 23.92 18.54 21.78 20.56 27.53 20.8  29.18 21.45 31.58\n",
      " 24.26 31.27 17.53]\n"
     ]
    }
   ],
   "source": [
    "# 1. Tất cả các ngày có nhiệt độ cao hơn 20 độ C\n",
    "days_above_20 = temperatures[temperatures > 20]\n",
    "\n",
    "# 2. Nhiệt độ của ngày 5, 10, 15, 20, và 25 (dùng Fancy Indexing)\n",
    "specific_days_temps = temperatures[[4, 9, 14, 19, 24]]  # Chỉ số bắt đầu từ 0, vì vậy trừ 1 với các ngày\n",
    "\n",
    "# 3. Nhiệt độ của các ngày có nhiệt độ trên trung bình\n",
    "average_temp = np.mean(temperatures)\n",
    "above_avg_temps = temperatures[temperatures > average_temp]\n",
    "\n",
    "# 4. Nhiệt độ của các ngày chẵn/lẻ trong tháng\n",
    "even_days_temps = temperatures[1::2]  # Ngày chẵn (chỉ số lẻ)\n",
    "odd_days_temps = temperatures[::2]  # Ngày lẻ (chỉ số chẵn)\n",
    "\n",
    "# In kết quả\n",
    "print(\"\\nCác ngày có nhiệt độ cao hơn 20 độ C:\")\n",
    "print(days_above_20)\n",
    "\n",
    "print(\"\\nNhiệt độ của các ngày 5, 10, 15, 20, và 25:\")\n",
    "print(specific_days_temps)\n",
    "\n",
    "print(\"\\nNhiệt độ của các ngày có nhiệt độ trên trung bình:\")\n",
    "print(above_avg_temps)\n",
    "\n",
    "print(\"\\nNhiệt độ của các ngày chẵn trong tháng:\")\n",
    "print(even_days_temps)\n",
    "\n",
    "print(\"\\nNhiệt độ của các ngày lẻ trong tháng:\")\n",
    "print(odd_days_temps)\n"
   ]
  },
  {
   "cell_type": "code",
   "execution_count": null,
   "metadata": {},
   "outputs": [],
   "source": []
  }
 ],
 "metadata": {
  "kernelspec": {
   "display_name": "base",
   "language": "python",
   "name": "python3"
  },
  "language_info": {
   "codemirror_mode": {
    "name": "ipython",
    "version": 3
   },
   "file_extension": ".py",
   "mimetype": "text/x-python",
   "name": "python",
   "nbconvert_exporter": "python",
   "pygments_lexer": "ipython3",
   "version": "3.12.4"
  }
 },
 "nbformat": 4,
 "nbformat_minor": 2
}
