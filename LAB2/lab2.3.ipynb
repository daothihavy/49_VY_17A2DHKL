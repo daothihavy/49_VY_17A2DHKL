{
 "cells": [
  {
   "cell_type": "code",
   "execution_count": 1,
   "metadata": {},
   "outputs": [
    {
     "name": "stdout",
     "output_type": "stream",
     "text": [
      "np_shifts dtype: <U10\n",
      "np_efficiency dtype: float64\n",
      "Hiệu suất trung bình ca 'Morning': 96.85\n",
      "Hiệu suất trung bình các ca khác: 98.94\n",
      "Ca làm việc hiệu suất cao nhất: Night\n",
      "Ca làm việc hiệu suất thấp nhất: Afternoon\n"
     ]
    }
   ],
   "source": [
    "import numpy as np\n",
    "\n",
    "# 1. Đọc dữ liệu từ 2 tập tin efficiency.txt và shifts.txt\n",
    "def read_file(file_path):\n",
    "    with open(file_path, 'r') as file:\n",
    "        return [line.strip() for line in file.readlines()]\n",
    "\n",
    "efficiency = read_file('efficiency.txt')\n",
    "shifts = read_file('shifts.txt')\n",
    "\n",
    "# 2. Tạo numpy array np_shifts từ list shifts và kiểm tra kiểu dữ liệu\n",
    "np_shifts = np.array(shifts, dtype='U10')\n",
    "print(f\"np_shifts dtype: {np_shifts.dtype}\")\n",
    "\n",
    "# 3. Tạo numpy array np_efficiency từ list efficiency và kiểm tra kiểu dữ liệu\n",
    "np_efficiency = np.array(efficiency, dtype=float)\n",
    "print(f\"np_efficiency dtype: {np_efficiency.dtype}\")\n",
    "\n",
    "# 4. Tính hiệu suất sản xuất trung bình của những nhân viên làm việc vào ca 'Morning'\n",
    "morning_mask = np_shifts == 'Morning'\n",
    "morning_efficiency = np_efficiency[morning_mask]\n",
    "morning_avg = morning_efficiency.mean() if morning_efficiency.size > 0 else 0\n",
    "print(f\"Hiệu suất trung bình ca 'Morning': {morning_avg:.2f}\")\n",
    "\n",
    "# 5. Tính hiệu suất sản xuất trung bình của những nhân viên làm việc trong các ca khác\n",
    "non_morning_mask = np_shifts != 'Morning'\n",
    "non_morning_efficiency = np_efficiency[non_morning_mask]\n",
    "non_morning_avg = non_morning_efficiency.mean() if non_morning_efficiency.size > 0 else 0\n",
    "print(f\"Hiệu suất trung bình các ca khác: {non_morning_avg:.2f}\")\n",
    "\n",
    "# 6. Tạo mảng dữ liệu có cấu trúc workers\n",
    "workers = np.zeros(len(np_shifts), dtype={'names': ('shift', 'efficiency'),\n",
    "                                          'formats': ('U10', 'f4')})\n",
    "workers['shift'] = np_shifts\n",
    "workers['efficiency'] = np_efficiency\n",
    "\n",
    "# 7. Sắp xếp mảng workers theo efficiency\n",
    "workers_sorted = np.sort(workers, order='efficiency')\n",
    "\n",
    "# Xác định ca làm việc có hiệu suất cao nhất và thấp nhất\n",
    "highest_efficiency_shift = workers_sorted[-1]['shift']\n",
    "lowest_efficiency_shift = workers_sorted[0]['shift']\n",
    "\n",
    "print(f\"Ca làm việc hiệu suất cao nhất: {highest_efficiency_shift}\")\n",
    "print(f\"Ca làm việc hiệu suất thấp nhất: {lowest_efficiency_shift}\")"
   ]
  },
  {
   "cell_type": "code",
   "execution_count": null,
   "metadata": {},
   "outputs": [],
   "source": []
  }
 ],
 "metadata": {
  "kernelspec": {
   "display_name": "base",
   "language": "python",
   "name": "python3"
  },
  "language_info": {
   "codemirror_mode": {
    "name": "ipython",
    "version": 3
   },
   "file_extension": ".py",
   "mimetype": "text/x-python",
   "name": "python",
   "nbconvert_exporter": "python",
   "pygments_lexer": "ipython3",
   "version": "3.12.4"
  }
 },
 "nbformat": 4,
 "nbformat_minor": 2
}
