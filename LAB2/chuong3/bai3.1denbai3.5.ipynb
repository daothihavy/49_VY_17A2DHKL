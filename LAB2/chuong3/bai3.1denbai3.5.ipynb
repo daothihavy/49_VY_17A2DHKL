{
 "cells": [
  {
   "cell_type": "markdown",
   "metadata": {},
   "source": [
    "### Bài 3.1"
   ]
  },
  {
   "cell_type": "code",
   "execution_count": 1,
   "metadata": {},
   "outputs": [
    {
     "name": "stdout",
     "output_type": "stream",
     "text": [
      "Phiên bản NumPy hiện tại: 1.26.4\n",
      "\n",
      "Mảng mẫu: [1 2 3 4 5]\n",
      "Kiểu dữ liệu của mảng: int32\n",
      "Kích thước của mảng: (5,)\n",
      "Số chiều của mảng: 1\n",
      "Kích thước bộ nhớ của mỗi phần tử (bytes): 4\n",
      "Kích thước toàn bộ mảng (bytes): 20\n"
     ]
    }
   ],
   "source": [
    "import numpy as np\n",
    "\n",
    "# Lấy phiên bản NumPy hiện tại\n",
    "print(\"Phiên bản NumPy hiện tại:\", np.__version__)\n",
    "\n",
    "# Tạo một mảng NumPy mẫu để hiển thị cấu trúc của nó\n",
    "arr = np.array([1, 2, 3, 4, 5])\n",
    "print(\"\\nMảng mẫu:\", arr)\n",
    "\n",
    "# Kiểm tra kiểu dữ liệu của mảng\n",
    "print(\"Kiểu dữ liệu của mảng:\", arr.dtype)\n",
    "\n",
    "# Kiểm tra kích thước của mảng\n",
    "print(\"Kích thước của mảng:\", arr.shape)\n",
    "\n",
    "# Kiểm tra số chiều của mảng\n",
    "print(\"Số chiều của mảng:\", arr.ndim)\n",
    "\n",
    "# Kiểm tra kích thước bộ nhớ của mảng\n",
    "print(\"Kích thước bộ nhớ của mỗi phần tử (bytes):\", arr.itemsize)\n",
    "print(\"Kích thước toàn bộ mảng (bytes):\", arr.nbytes)"
   ]
  },
  {
   "cell_type": "markdown",
   "metadata": {},
   "source": [
    "### Bài 3.2"
   ]
  },
  {
   "cell_type": "code",
   "execution_count": 2,
   "metadata": {},
   "outputs": [
    {
     "name": "stdout",
     "output_type": "stream",
     "text": [
      "Mảng arr: [0 1 2 3 4 5 6 7 8 9]\n",
      "Kiểu dữ liệu của arr: int32\n",
      "Kích thước của arr: (10,)\n",
      "Mảng arr_odd (phần tử lẻ): [1 3 5 7 9]\n",
      "Mảng arr_even (phần tử chẵn): [0 2 4 6 8]\n",
      "Mảng arr_update_1: [  0 100   2 100   4 100   6 100   8 100]\n"
     ]
    }
   ],
   "source": [
    "import numpy as np\n",
    "\n",
    "# Câu 1:\n",
    "arr = np.arange(10)\n",
    "print(\"Mảng arr:\", arr)\n",
    "print(\"Kiểu dữ liệu của arr:\", arr.dtype)\n",
    "print(\"Kích thước của arr:\", arr.shape)\n",
    "\n",
    "# Câu 2: \n",
    "arr_odd = arr[arr % 2 != 0] \n",
    "arr_even = arr[arr % 2 == 0]  \n",
    "print(\"Mảng arr_odd (phần tử lẻ):\", arr_odd)\n",
    "print(\"Mảng arr_even (phần tử chẵn):\", arr_even)\n",
    "\n",
    "# Câu 3: \n",
    "arr_update_1 = arr.copy()\n",
    "arr_update_1[arr_update_1 % 2 != 0] = 100\n",
    "print(\"Mảng arr_update_1:\", arr_update_1)"
   ]
  },
  {
   "cell_type": "markdown",
   "metadata": {},
   "source": [
    "### BÀI 3.3"
   ]
  },
  {
   "cell_type": "code",
   "execution_count": 3,
   "metadata": {},
   "outputs": [
    {
     "name": "stdout",
     "output_type": "stream",
     "text": [
      "Mảng arr_c (các phần tử xuất hiện ở cả arr_a và arr_b): [2 4]\n",
      "Mảng arr_d (các phần tử chỉ xuất hiện ở arr_a): [1 3 5 6]\n",
      "Mảng arr_f (các phần tử chia hết cho 5 từ arr_e): [25]\n"
     ]
    }
   ],
   "source": [
    "import numpy as np\n",
    "\n",
    "# Khởi tạo các mảng arr_a và arr_b\n",
    "arr_a = np.array([1, 2, 3, 2, 3, 4, 3, 4, 5, 6])\n",
    "arr_b = np.array([7, 2, 10, 2, 7, 4, 9, 4, 9, 8])\n",
    "\n",
    "# Câu 1: \n",
    "arr_c = np.intersect1d(arr_a, arr_b)\n",
    "print(\"Mảng arr_c (các phần tử xuất hiện ở cả arr_a và arr_b):\", arr_c)\n",
    "\n",
    "# Câu 2:\n",
    "arr_d = np.setdiff1d(arr_a, arr_b)\n",
    "print(\"Mảng arr_d (các phần tử chỉ xuất hiện ở arr_a):\", arr_d)\n",
    "\n",
    "# Câu 3:\n",
    "arr_e = np.array([2, 6, 1, 9, 3, 27, 8, 6, 25, 16])\n",
    "arr_f = arr_e[arr_e % 5 == 0]\n",
    "print(\"Mảng arr_f (các phần tử chia hết cho 5 từ arr_e):\", arr_f)\n"
   ]
  },
  {
   "cell_type": "markdown",
   "metadata": {},
   "source": [
    "### BÀI 3.4"
   ]
  },
  {
   "cell_type": "code",
   "execution_count": 4,
   "metadata": {},
   "outputs": [
    {
     "name": "stdout",
     "output_type": "stream",
     "text": [
      "Mảng arr_zeros sau khi cập nhật: [0 0 0 0 0 1 0 0 0 0]\n",
      "Mảng arr_h theo thứ tự đảo ngược: [24 23 22 21 20 19 18 17 16 15 14 13 12 11 10]\n",
      "Mảng arr_1 (chỉ chứa các phần tử khác 0): [1 2 8 2 1 3 5]\n",
      "Mảng sau khi thêm 10 và 20 vào cuối: [ 1  2  8  2  1  3  5 10 20]\n",
      "Mảng sau khi thêm 100 vào vị trí index 5: [  1   2   8   2   1 100   3   5  10  20]\n",
      "Mảng sau khi xóa các phần tử tại index 0, 1, 2: [  2   1 100   3   5  10  20]\n"
     ]
    }
   ],
   "source": [
    "import numpy as np\n",
    "\n",
    "# Câu 1: \n",
    "arr_zeros = np.zeros(10, dtype=int)\n",
    "arr_zeros[5] = 1\n",
    "print(\"Mảng arr_zeros sau khi cập nhật:\", arr_zeros)\n",
    "\n",
    "# Câu 2: \n",
    "arr_h = np.arange(10, 25)\n",
    "print(\"Mảng arr_h theo thứ tự đảo ngược:\", arr_h[::-1])\n",
    "\n",
    "# Câu 3:\n",
    "arr_k = np.array([1, 2, 0, 8, 2, 0, 1, 3, 0, 5, 0])\n",
    "arr_1 = arr_k[arr_k != 0]\n",
    "print(\"Mảng arr_1 (chỉ chứa các phần tử khác 0):\", arr_1)\n",
    "\n",
    "# Câu 4: \n",
    "arr_1 = np.append(arr_1, [10, 20])\n",
    "print(\"Mảng sau khi thêm 10 và 20 vào cuối:\", arr_1)\n",
    "\n",
    "# Câu 5: \n",
    "arr_1 = np.insert(arr_1, 5, 100)\n",
    "print(\"Mảng sau khi thêm 100 vào vị trí index 5:\", arr_1)\n",
    "\n",
    "# Câu 6:\n",
    "arr_1 = np.delete(arr_1, [0, 1, 2])\n",
    "print(\"Mảng sau khi xóa các phần tử tại index 0, 1, 2:\", arr_1)"
   ]
  },
  {
   "cell_type": "code",
   "execution_count": null,
   "metadata": {},
   "outputs": [],
   "source": []
  }
 ],
 "metadata": {
  "kernelspec": {
   "display_name": "base",
   "language": "python",
   "name": "python3"
  },
  "language_info": {
   "codemirror_mode": {
    "name": "ipython",
    "version": 3
   },
   "file_extension": ".py",
   "mimetype": "text/x-python",
   "name": "python",
   "nbconvert_exporter": "python",
   "pygments_lexer": "ipython3",
   "version": "3.12.4"
  }
 },
 "nbformat": 4,
 "nbformat_minor": 2
}
